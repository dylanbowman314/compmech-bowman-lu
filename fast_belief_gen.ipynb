{
 "cells": [
  {
   "cell_type": "code",
   "execution_count": 1,
   "metadata": {},
   "outputs": [],
   "source": [
    "from epsilon_transformers.process.processes import Mess3\n",
    "from epsilon_transformers.process.MixedStateTree import MixedStateTree, MixedStateTreeNode\n",
    "from epsilon_transformers.process.Process import _compute_emission_probabilities, _compute_next_distribution, Process\n",
    "import numpy as np"
   ]
  },
  {
   "cell_type": "code",
   "execution_count": 2,
   "metadata": {},
   "outputs": [],
   "source": [
    "x = 0.15\n",
    "a = 0.54"
   ]
  },
  {
   "cell_type": "code",
   "execution_count": 3,
   "metadata": {},
   "outputs": [],
   "source": [
    "import itertools\n",
    "import numpy as np\n",
    "\n",
    "def generate_combinations():\n",
    "    combinations = []\n",
    "    for length in range(10,11):  # Lengths from 2 to 10\n",
    "        for combo in itertools.product([0, 1, 2], repeat=length):\n",
    "            combinations.append(np.array(combo))\n",
    "    \n",
    "    return combinations\n",
    "\n",
    "# Generate the combinations\n",
    "combinations_list = generate_combinations()\n"
   ]
  },
  {
   "cell_type": "code",
   "execution_count": 4,
   "metadata": {},
   "outputs": [
    {
     "name": "stdout",
     "output_type": "stream",
     "text": [
      "0.032945871353149414\n"
     ]
    }
   ],
   "source": [
    "import torch\n",
    "import time\n",
    "\n",
    "def multiply_beliefs(batch1: torch.Tensor, batch2: torch.Tensor):\n",
    "    accumulated_tm = torch.einsum('bij,cjk->bcik', batch1, batch2)\n",
    "    num_symbols, num_seqs, n, _ = accumulated_tm.shape\n",
    "    accumulated_tm = accumulated_tm.reshape(num_symbols * num_seqs, n, n)\n",
    "    return accumulated_tm\n",
    "\n",
    "def compute_all_beliefs(process: Process, seq_len: int, device=torch.device(\"cpu\")):\n",
    "    tm = torch.tensor(process.transition_matrix, dtype=torch.float32, device=device)\n",
    "    accumulated_tm = torch.eye(len(tm), dtype=torch.float32, device=device).unsqueeze(0)\n",
    "\n",
    "    for i in range(seq_len):\n",
    "        accumulated_tm = multiply_beliefs(tm, accumulated_tm)\n",
    "\n",
    "    return accumulated_tm\n",
    "\n",
    "def compute_all_beliefs_with_history(process: Process, seq_len: int, device=torch.device(\"cpu\")):\n",
    "    tm = torch.tensor(process.transition_matrix, dtype=torch.float32, device=device)\n",
    "    accumulated_tm = torch.eye(len(tm), dtype=torch.float32, device=device).unsqueeze(0)\n",
    "\n",
    "    layers = []\n",
    "    for i in range(seq_len):\n",
    "        accumulated_tm = multiply_beliefs(tm, accumulated_tm)\n",
    "        layers.append(accumulated_tm.repeat_interleave((tm.shape[-1])**(seq_len - i - 1), dim=0))\n",
    "\n",
    "    return layers\n",
    "\n",
    "st = time.time()\n",
    "prior = torch.tensor([1/3, 1/3, 1/3], device=\"cpu\")\n",
    "raw_beliefs = compute_all_beliefs_with_history(Mess3(x, a), 10, device=torch.device(\"cpu\"))\n",
    "\n",
    "states = prior @ torch.stack(raw_beliefs).permute(1,0,2,3)\n",
    "states = states / torch.sum(states, dim=2).unsqueeze(2)\n",
    "\n",
    "print(time.time() - st)"
   ]
  },
  {
   "cell_type": "code",
   "execution_count": 5,
   "metadata": {},
   "outputs": [
    {
     "name": "stdout",
     "output_type": "stream",
     "text": [
      "tensor([[0, 0, 0,  ..., 0, 0, 0],\n",
      "        [0, 0, 0,  ..., 0, 0, 1],\n",
      "        [0, 0, 0,  ..., 0, 0, 2],\n",
      "        ...,\n",
      "        [2, 2, 2,  ..., 2, 2, 0],\n",
      "        [2, 2, 2,  ..., 2, 2, 1],\n",
      "        [2, 2, 2,  ..., 2, 2, 2]], dtype=torch.int32)\n"
     ]
    }
   ],
   "source": [
    "from src.generate_paths_and_beliefs import generate_mess3_beliefs\n",
    "\n",
    "beliefs_source = generate_mess3_beliefs(x, a, sort_pairs=True)"
   ]
  },
  {
   "cell_type": "code",
   "execution_count": 6,
   "metadata": {},
   "outputs": [
    {
     "data": {
      "text/plain": [
       "tensor([[[0.5400, 0.2300, 0.2300],\n",
       "         [0.6549, 0.1725, 0.1725],\n",
       "         [0.7098, 0.1451, 0.1451],\n",
       "         ...,\n",
       "         [0.7514, 0.1243, 0.1243],\n",
       "         [0.7518, 0.1241, 0.1241],\n",
       "         [0.7519, 0.1241, 0.1241]],\n",
       "\n",
       "        [[0.5400, 0.2300, 0.2300],\n",
       "         [0.6549, 0.1725, 0.1725],\n",
       "         [0.7098, 0.1451, 0.1451],\n",
       "         ...,\n",
       "         [0.7514, 0.1243, 0.1243],\n",
       "         [0.7518, 0.1241, 0.1241],\n",
       "         [0.4354, 0.3960, 0.1687]],\n",
       "\n",
       "        [[0.5400, 0.2300, 0.2300],\n",
       "         [0.6549, 0.1725, 0.1725],\n",
       "         [0.7098, 0.1451, 0.1451],\n",
       "         ...,\n",
       "         [0.7514, 0.1243, 0.1243],\n",
       "         [0.7518, 0.1241, 0.1241],\n",
       "         [0.4354, 0.1687, 0.3960]],\n",
       "\n",
       "        ...,\n",
       "\n",
       "        [[0.2300, 0.2300, 0.5400],\n",
       "         [0.1725, 0.1725, 0.6549],\n",
       "         [0.1451, 0.1451, 0.7098],\n",
       "         ...,\n",
       "         [0.1243, 0.1243, 0.7514],\n",
       "         [0.1241, 0.1241, 0.7518],\n",
       "         [0.3960, 0.1687, 0.4354]],\n",
       "\n",
       "        [[0.2300, 0.2300, 0.5400],\n",
       "         [0.1725, 0.1725, 0.6549],\n",
       "         [0.1451, 0.1451, 0.7098],\n",
       "         ...,\n",
       "         [0.1243, 0.1243, 0.7514],\n",
       "         [0.1241, 0.1241, 0.7518],\n",
       "         [0.1687, 0.3960, 0.4354]],\n",
       "\n",
       "        [[0.2300, 0.2300, 0.5400],\n",
       "         [0.1725, 0.1725, 0.6549],\n",
       "         [0.1451, 0.1451, 0.7098],\n",
       "         ...,\n",
       "         [0.1243, 0.1243, 0.7514],\n",
       "         [0.1241, 0.1241, 0.7518],\n",
       "         [0.1241, 0.1241, 0.7519]]])"
      ]
     },
     "execution_count": 6,
     "metadata": {},
     "output_type": "execute_result"
    }
   ],
   "source": [
    "beliefs_source[1]"
   ]
  },
  {
   "cell_type": "code",
   "execution_count": 7,
   "metadata": {},
   "outputs": [
    {
     "data": {
      "text/plain": [
       "tensor([[0., 0., 0.],\n",
       "        [0., 0., 0.],\n",
       "        [0., 0., 0.],\n",
       "        [0., 0., 0.],\n",
       "        [0., 0., 0.],\n",
       "        [0., 0., 0.],\n",
       "        [0., 0., 0.],\n",
       "        [0., 0., 0.],\n",
       "        [0., 0., 0.],\n",
       "        [0., 0., 0.]])"
      ]
     },
     "execution_count": 7,
     "metadata": {},
     "output_type": "execute_result"
    }
   ],
   "source": [
    "(states - beliefs_source[1])[55463]"
   ]
  },
  {
   "cell_type": "code",
   "execution_count": 8,
   "metadata": {},
   "outputs": [
    {
     "ename": "ValueError",
     "evalue": "too many values to unpack (expected 3)",
     "output_type": "error",
     "traceback": [
      "\u001b[0;31m---------------------------------------------------------------------------\u001b[0m",
      "\u001b[0;31mValueError\u001b[0m                                Traceback (most recent call last)",
      "Cell \u001b[0;32mIn[8], line 33\u001b[0m\n\u001b[1;32m     29\u001b[0m     ax\u001b[38;5;241m.\u001b[39mset_axis_off()\n\u001b[1;32m     31\u001b[0m     plt\u001b[38;5;241m.\u001b[39mshow()\n\u001b[0;32m---> 33\u001b[0m \u001b[43mplot_ternary\u001b[49m\u001b[43m(\u001b[49m\u001b[43mstates\u001b[49m\u001b[43m)\u001b[49m\n",
      "Cell \u001b[0;32mIn[8], line 14\u001b[0m, in \u001b[0;36mplot_ternary\u001b[0;34m(ternary_coords)\u001b[0m\n\u001b[1;32m     13\u001b[0m \u001b[38;5;28;01mdef\u001b[39;00m \u001b[38;5;21mplot_ternary\u001b[39m(ternary_coords):\n\u001b[0;32m---> 14\u001b[0m     cartesian_coords \u001b[38;5;241m=\u001b[39m \u001b[43mternary_to_cartesian\u001b[49m\u001b[43m(\u001b[49m\u001b[43mternary_coords\u001b[49m\u001b[43m)\u001b[49m\n\u001b[1;32m     15\u001b[0m     x \u001b[38;5;241m=\u001b[39m cartesian_coords[:, \u001b[38;5;241m0\u001b[39m]\n\u001b[1;32m     16\u001b[0m     y \u001b[38;5;241m=\u001b[39m cartesian_coords[:, \u001b[38;5;241m1\u001b[39m]\n",
      "Cell \u001b[0;32mIn[8], line 7\u001b[0m, in \u001b[0;36mternary_to_cartesian\u001b[0;34m(ternary_coords)\u001b[0m\n\u001b[1;32m      4\u001b[0m \u001b[38;5;28;01mdef\u001b[39;00m \u001b[38;5;21mternary_to_cartesian\u001b[39m(ternary_coords):\n\u001b[1;32m      5\u001b[0m     \u001b[38;5;66;03m# Convert ternary coordinates to Cartesian coordinates for plotting\u001b[39;00m\n\u001b[1;32m      6\u001b[0m     cartesian_coords \u001b[38;5;241m=\u001b[39m []\n\u001b[0;32m----> 7\u001b[0m     \u001b[38;5;28;01mfor\u001b[39;00m (a, b, c) \u001b[38;5;129;01min\u001b[39;00m ternary_coords:\n\u001b[1;32m      8\u001b[0m         x \u001b[38;5;241m=\u001b[39m \u001b[38;5;241m0.5\u001b[39m \u001b[38;5;241m*\u001b[39m (\u001b[38;5;241m2\u001b[39m \u001b[38;5;241m*\u001b[39m b \u001b[38;5;241m+\u001b[39m c) \u001b[38;5;241m/\u001b[39m (a \u001b[38;5;241m+\u001b[39m b \u001b[38;5;241m+\u001b[39m c)\n\u001b[1;32m      9\u001b[0m         y \u001b[38;5;241m=\u001b[39m (np\u001b[38;5;241m.\u001b[39msqrt(\u001b[38;5;241m3\u001b[39m) \u001b[38;5;241m/\u001b[39m \u001b[38;5;241m2\u001b[39m) \u001b[38;5;241m*\u001b[39m c \u001b[38;5;241m/\u001b[39m (a \u001b[38;5;241m+\u001b[39m b \u001b[38;5;241m+\u001b[39m c)\n",
      "\u001b[0;31mValueError\u001b[0m: too many values to unpack (expected 3)"
     ]
    }
   ],
   "source": [
    "import numpy as np\n",
    "import matplotlib.pyplot as plt\n",
    "\n",
    "def ternary_to_cartesian(ternary_coords):\n",
    "    # Convert ternary coordinates to Cartesian coordinates for plotting\n",
    "    cartesian_coords = []\n",
    "    for (a, b, c) in ternary_coords:\n",
    "        x = 0.5 * (2 * b + c) / (a + b + c)\n",
    "        y = (np.sqrt(3) / 2) * c / (a + b + c)\n",
    "        cartesian_coords.append((x, y))\n",
    "    return np.array(cartesian_coords)\n",
    "\n",
    "def plot_ternary(ternary_coords):\n",
    "    cartesian_coords = ternary_to_cartesian(ternary_coords)\n",
    "    x = cartesian_coords[:, 0]\n",
    "    y = cartesian_coords[:, 1]\n",
    "    \n",
    "    fig, ax = plt.subplots()\n",
    "    ax.scatter(x, y,s =0.01)\n",
    "\n",
    "    # Draw the ternary plot boundaries\n",
    "    ax.plot([0, 0.5], [0, np.sqrt(3) / 2], 'k-')\n",
    "    ax.plot([0.5, 1], [np.sqrt(3) / 2, 0], 'k-')\n",
    "    ax.plot([1, 0], [0, 0], 'k-')\n",
    "\n",
    "    ax.set_xlim(0, 1)\n",
    "    ax.set_ylim(0, np.sqrt(3) / 2)\n",
    "    ax.set_aspect('equal')\n",
    "    ax.set_axis_off()\n",
    "\n",
    "    plt.show()\n",
    "\n",
    "plot_ternary(states)"
   ]
  }
 ],
 "metadata": {
  "kernelspec": {
   "display_name": "base",
   "language": "python",
   "name": "python3"
  },
  "language_info": {
   "codemirror_mode": {
    "name": "ipython",
    "version": 3
   },
   "file_extension": ".py",
   "mimetype": "text/x-python",
   "name": "python",
   "nbconvert_exporter": "python",
   "pygments_lexer": "ipython3",
   "version": "3.12.2"
  }
 },
 "nbformat": 4,
 "nbformat_minor": 2
}
