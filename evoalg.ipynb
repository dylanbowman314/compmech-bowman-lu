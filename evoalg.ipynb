{
 "cells": [
  {
   "cell_type": "code",
   "execution_count": 1,
   "metadata": {},
   "outputs": [
    {
     "name": "stderr",
     "output_type": "stream",
     "text": [
      "/opt/conda/lib/python3.12/site-packages/tqdm/auto.py:21: TqdmWarning: IProgress not found. Please update jupyter and ipywidgets. See https://ipywidgets.readthedocs.io/en/stable/user_install.html\n",
      "  from .autonotebook import tqdm as notebook_tqdm\n",
      "/opt/conda/lib/python3.12/site-packages/dask/dataframe/_pyarrow_compat.py:17: FutureWarning: Minimal version of pyarrow will soon be increased to 14.0.1. You are using 13.0.0. Please consider upgrading.\n",
      "  warnings.warn(\n"
     ]
    }
   ],
   "source": [
    "from typing import List, Tuple\n",
    "import argparse\n",
    "from collections import deque\n",
    "\n",
    "import numpy as np\n",
    "import torch\n",
    "import yaml\n",
    "from epsilon_transformers.process.MixedStateTree import (MixedStateTree,\n",
    "                                                         MixedStateTreeNode)\n",
    "from epsilon_transformers.process.Process import (\n",
    "    Process, _compute_emission_probabilities, _compute_next_distribution)\n",
    "from epsilon_transformers.process.processes import Mess3\n",
    "from tqdm import tqdm\n",
    "\n",
    "from src.utils import get_cached_belief_filename, MODEL_PATH_005_085, MODEL_PATH_015_06\n",
    "from src.generate_paths_and_beliefs import generate_mess3_beliefs, save_beliefs\n",
    "from typing import Tuple, Set, List\n",
    "from pathlib import Path\n",
    "from transformer_lens import HookedTransformer\n",
    "from src.experiment import run_activation_to_beliefs_regression, r_squared, load_model"
   ]
  },
  {
   "cell_type": "code",
   "execution_count": 2,
   "metadata": {},
   "outputs": [],
   "source": [
    "# class EvolutionaryAlgorithm:\n",
    "#     def __init__(param_ranges: List[Tuple[float, float]])"
   ]
  },
  {
   "cell_type": "code",
   "execution_count": 7,
   "metadata": {},
   "outputs": [],
   "source": [
    "def get_beliefs(x: float, a: float):\n",
    "    file_path = Path(get_cached_belief_filename(x, a))\n",
    "    if file_path.exists():\n",
    "        return torch.load(file_path)\n",
    "    else:\n",
    "        inputs, input_beliefs = generate_mess3_beliefs(x, a, sort_pairs=True)\n",
    "        # save_beliefs(inputs, input_beliefs, x, a)\n",
    "        return {\n",
    "            \"params\": {\"x\": x, \"a\": a},\n",
    "            \"inputs\": inputs,\n",
    "            \"input_beliefs\": input_beliefs,\n",
    "        }\n",
    "\n",
    "def evaluate(model: HookedTransformer, inputs: torch.Tensor, input_beliefs: torch.Tensor):\n",
    "    _, activations = model.run_with_cache(\n",
    "            inputs, names_filter=lambda x: \"resid_post\" in x\n",
    "        )\n",
    "    acts = activations[\"blocks.3.hook_resid_post\"].cpu().detach().numpy()\n",
    "    regression, belief_predictions = run_activation_to_beliefs_regression(\n",
    "        acts, input_beliefs\n",
    "    )\n",
    "\n",
    "    rsq = r_squared(input_beliefs, belief_predictions)\n",
    "\n",
    "    return rsq"
   ]
  },
  {
   "cell_type": "code",
   "execution_count": 12,
   "metadata": {},
   "outputs": [
    {
     "data": {
      "text/plain": [
       "tensor(0.9542, dtype=torch.float64)"
      ]
     },
     "execution_count": 12,
     "metadata": {},
     "output_type": "execute_result"
    }
   ],
   "source": [
    "p = get_beliefs(0.01, 0.9)\n",
    "device = torch.device(\"cuda:1\")\n",
    "model = load_model(MODEL_PATH_015_06 / \"998406400.pt\", MODEL_PATH_015_06 / \"train_config.json\", device)\n",
    "model = load_model(MODEL_PATH_005_085 / \"684806400.pt\", MODEL_PATH_015_06 / \"train_config.json\", device)\n",
    "evaluate(model, p[\"inputs\"], p[\"input_beliefs\"])"
   ]
  },
  {
   "cell_type": "code",
   "execution_count": 15,
   "metadata": {},
   "outputs": [
    {
     "name": "stdout",
     "output_type": "stream",
     "text": [
      "[[0.2925360457645261, 0.7509657805634686], [0.22253596692168948, 0.4102281671689537], [0.48336412427955855, 0.23656749593851345], [0.1267778474967992, 0.029779804942649202], [0.19425291157280122, 0.2226747029976075], [0.39365798206641084, 0.34960216514450326], [0.2591685002367581, 0.8026364522424402], [0.0201282706124864, 0.8772216372347319], [0.2163790772485742, 0.43004018203142624], [0.42502116399839907, 0.9217305102527351]]\n",
      "[[0.22253596692168948, 1.0], [0.2925360457645261, 0.7509657805634686], [0.2591685002367581, 0.8026364522424402], [0.2925360457645261, 0.4102281671689537], [0.19425291157280122, 0.8026364522424402], [0.27293241186333145, 0.2226747029976075], [0.22253596692168948, 0.7509657805634686], [0.261197998789791, 0.6613878037732864], [0.42502116399839907, 0.9217305102527351], [0.2591685002367581, 0.2226747029976075]]\n",
      "[[0.22253596692168948, 1.0], [0.2925360457645261, 1.0], [0.2925360457645261, 1.0], [0.22253596692168948, 1.0], [0.2591685002367581, 0.8955037361935247], [0.2591685002367581, 0.8955037361935247], [0.2591685002367581, 0.8955037361935247], [0.2925360457645261, 0.7509657805634686], [0.2925360457645261, 0.7509657805634686], [0.2591685002367581, 0.8955037361935247]]\n",
      "[[0.22253596692168948, 1.0], [0.2925360457645261, 0.9434539119421564], [0.2925360457645261, 1.0], [0.22253596692168948, 1.0], [0.22253596692168948, 1.0], [0.22253596692168948, 1.0], [0.2925360457645261, 1.0], [0.2925360457645261, 1.0], [0.22253596692168948, 1.0], [0.2925360457645261, 1.0]]\n",
      "[[0.22253596692168948, 1.0], [0.2925360457645261, 1.0], [0.22253596692168948, 1.0], [0.22253596692168948, 1.0], [0.2581787212114521, 0.9402892323836333], [0.2925360457645261, 1.0], [0.2925360457645261, 1.0], [0.22253596692168948, 1.0], [0.2925360457645261, 1.0], [0.22253596692168948, 1.0]]\n"
     ]
    }
   ],
   "source": [
    "import random\n",
    "import numpy as np\n",
    "\n",
    "# Define parameters\n",
    "population_size = 5\n",
    "generations = 5\n",
    "mutation_rate = 0.7\n",
    "crossover_rate = 0.7\n",
    "elitism_count = 2\n",
    "\n",
    "# Define ranges for x and a\n",
    "x_range = (0, 0.5)\n",
    "a_range = (0, 1)\n",
    "\n",
    "# Fitness function\n",
    "def evaluate_fitness(chromosome):\n",
    "    x, a = chromosome\n",
    "    belief_dict = get_beliefs(x, a)\n",
    "    score = evaluate(model, belief_dict[\"inputs\"], belief_dict[\"input_beliefs\"])\n",
    "    return score\n",
    "\n",
    "# Initialize population\n",
    "def initialize_population(size):\n",
    "    population = []\n",
    "    for _ in range(size):\n",
    "        x = random.uniform(*x_range)\n",
    "        a = random.uniform(*a_range)\n",
    "        population.append([x, a])\n",
    "    return population\n",
    "\n",
    "# Selection (Tournament Selection)\n",
    "def select_parents(population, fitness, k=3):\n",
    "    selected = []\n",
    "    for _ in range(len(population)):\n",
    "        tournament = random.sample(list(zip(population, fitness)), k)\n",
    "        winner = max(tournament, key=lambda ind: ind[1])[0]\n",
    "        selected.append(winner)\n",
    "    return selected\n",
    "\n",
    "# Crossover (Single-Point Crossover)\n",
    "def crossover(parent1, parent2):\n",
    "    if random.random() < crossover_rate:\n",
    "        point = random.randint(1, 1)\n",
    "        child1 = [parent1[0], parent2[1]]\n",
    "        child2 = [parent2[0], parent1[1]]\n",
    "        return child1, child2\n",
    "    else:\n",
    "        return parent1, parent2\n",
    "\n",
    "# Mutation\n",
    "def mutate(chromosome, mutation_rate):\n",
    "    if random.random() < mutation_rate:\n",
    "        chromosome[0] = np.clip(chromosome[0] + np.random.normal(0, 0.05), *x_range)\n",
    "    if random.random() < mutation_rate:\n",
    "        chromosome[1] = np.clip(chromosome[1] + np.random.normal(0, 0.1), *a_range)\n",
    "    return chromosome\n",
    "\n",
    "# Replacement (Elitism)\n",
    "def replace_population(old_population, new_population, fitness):\n",
    "    combined = list(zip(old_population, fitness)) + [(child, evaluate_fitness(child)) for child in new_population]\n",
    "    combined.sort(key=lambda ind: ind[1], reverse=True)\n",
    "    return [ind[0] for ind in combined[:population_size]]\n",
    "\n",
    "# Main evolutionary algorithm\n",
    "def evolutionary_algorithm():\n",
    "    all_generations = []\n",
    "    population = initialize_population(population_size)\n",
    "    for generation in range(generations):\n",
    "        print(population)\n",
    "        fitness = [evaluate_fitness(chromosome) for chromosome in population]\n",
    "        \n",
    "        parents = select_parents(population, fitness)\n",
    "        offspring = []\n",
    "        while len(offspring) < population_size:\n",
    "            parent1, parent2 = random.sample(parents, 2)\n",
    "            child1, child2 = crossover(parent1, parent2)\n",
    "            offspring.extend([mutate(child1, mutation_rate), mutate(child2, mutation_rate)])\n",
    "        \n",
    "        all_generations.append((population, fitness.item()))\n",
    "\n",
    "        population = replace_population(population, offspring, fitness)\n",
    "    \n",
    "    return all_generations\n",
    "\n",
    "# Run the algorithm and print the best solution\n",
    "all_generations = evolutionary_algorithm()\n",
    "#    best_solution = max(population, key=evaluate_fitness)\n",
    "# print(\"Best solution:\", best_solution)\n",
    "# print(\"Best fitness:\", evaluate_fitness(best_solution))\n"
   ]
  },
  {
   "cell_type": "code",
   "execution_count": 17,
   "metadata": {},
   "outputs": [],
   "source": [
    "chromosomes, fitnesses = zip(*all_generations)"
   ]
  },
  {
   "cell_type": "code",
   "execution_count": 23,
   "metadata": {},
   "outputs": [
    {
     "name": "stdout",
     "output_type": "stream",
     "text": [
      "[0.2925360457645261, 0.7509657805634686] tensor(0.9928, dtype=torch.float64)\n",
      "[0.22253596692168948, 0.4102281671689537] tensor(0.9886, dtype=torch.float64)\n",
      "[0.48336412427955855, 0.23656749593851345] tensor(0.9092, dtype=torch.float64)\n",
      "[0.1267778474967992, 0.029779804942649202] tensor(0.9659, dtype=torch.float64)\n",
      "[0.19425291157280122, 0.2226747029976075] tensor(0.9886, dtype=torch.float64)\n",
      "[0.39365798206641084, 0.34960216514450326] tensor(0.9826, dtype=torch.float64)\n",
      "[0.2591685002367581, 0.8955037361935247] tensor(0.9922, dtype=torch.float64)\n",
      "[0.0201282706124864, 0.8772216372347319] tensor(0.9771, dtype=torch.float64)\n",
      "[0.2163790772485742, 0.43004018203142624] tensor(0.9885, dtype=torch.float64)\n",
      "[0.42502116399839907, 0.9217305102527351] tensor(0.9907, dtype=torch.float64)\n",
      "[0.22253596692168948, 1.0] tensor(0.9934, dtype=torch.float64)\n",
      "[0.2925360457645261, 0.7509657805634686] tensor(0.9928, dtype=torch.float64)\n",
      "[0.2591685002367581, 0.8955037361935247] tensor(0.9922, dtype=torch.float64)\n",
      "[0.2925360457645261, 0.4102281671689537] tensor(0.9919, dtype=torch.float64)\n",
      "[0.19425291157280122, 0.8026364522424402] tensor(0.9918, dtype=torch.float64)\n",
      "[0.27293241186333145, 0.2226747029976075] tensor(0.9913, dtype=torch.float64)\n",
      "[0.22253596692168948, 0.7509657805634686] tensor(0.9910, dtype=torch.float64)\n",
      "[0.261197998789791, 0.6613878037732864] tensor(0.9910, dtype=torch.float64)\n",
      "[0.42502116399839907, 0.9217305102527351] tensor(0.9907, dtype=torch.float64)\n",
      "[0.2591685002367581, 0.2226747029976075] tensor(0.9906, dtype=torch.float64)\n",
      "[0.22253596692168948, 1.0] tensor(0.9934, dtype=torch.float64)\n",
      "[0.2925360457645261, 0.9434539119421564] tensor(0.9934, dtype=torch.float64)\n",
      "[0.2925360457645261, 1.0] tensor(0.9934, dtype=torch.float64)\n",
      "[0.22253596692168948, 1.0] tensor(0.9934, dtype=torch.float64)\n",
      "[0.2591685002367581, 0.8955037361935247] tensor(0.9931, dtype=torch.float64)\n",
      "[0.2591685002367581, 0.8955037361935247] tensor(0.9931, dtype=torch.float64)\n",
      "[0.2591685002367581, 0.8955037361935247] tensor(0.9931, dtype=torch.float64)\n",
      "[0.2925360457645261, 0.7509657805634686] tensor(0.9928, dtype=torch.float64)\n",
      "[0.2925360457645261, 0.7509657805634686] tensor(0.9928, dtype=torch.float64)\n",
      "[0.2591685002367581, 0.8955037361935247] tensor(0.9931, dtype=torch.float64)\n",
      "[0.22253596692168948, 1.0] tensor(0.9934, dtype=torch.float64)\n",
      "[0.2925360457645261, 0.9434539119421564] tensor(0.9934, dtype=torch.float64)\n",
      "[0.2925360457645261, 1.0] tensor(0.9934, dtype=torch.float64)\n",
      "[0.22253596692168948, 1.0] tensor(0.9934, dtype=torch.float64)\n",
      "[0.22253596692168948, 1.0] tensor(0.9934, dtype=torch.float64)\n",
      "[0.2581787212114521, 0.9402892323836333] tensor(0.9934, dtype=torch.float64)\n",
      "[0.2925360457645261, 1.0] tensor(0.9934, dtype=torch.float64)\n",
      "[0.2925360457645261, 1.0] tensor(0.9934, dtype=torch.float64)\n",
      "[0.22253596692168948, 1.0] tensor(0.9934, dtype=torch.float64)\n",
      "[0.2925360457645261, 1.0] tensor(0.9934, dtype=torch.float64)\n",
      "[0.22253596692168948, 1.0] tensor(0.9934, dtype=torch.float64)\n",
      "[0.2925360457645261, 1.0] tensor(0.9934, dtype=torch.float64)\n",
      "[0.22253596692168948, 1.0] tensor(0.9934, dtype=torch.float64)\n",
      "[0.22253596692168948, 1.0] tensor(0.9934, dtype=torch.float64)\n",
      "[0.2581787212114521, 0.9402892323836333] tensor(0.9933, dtype=torch.float64)\n",
      "[0.2925360457645261, 1.0] tensor(0.9934, dtype=torch.float64)\n",
      "[0.2925360457645261, 1.0] tensor(0.9934, dtype=torch.float64)\n",
      "[0.22253596692168948, 1.0] tensor(0.9934, dtype=torch.float64)\n",
      "[0.2925360457645261, 1.0] tensor(0.9934, dtype=torch.float64)\n",
      "[0.22253596692168948, 1.0] tensor(0.9934, dtype=torch.float64)\n"
     ]
    }
   ],
   "source": [
    "for chromosomes, fitnesses in zip(sum(chromosomes, []), sum(fitnesses, [])):\n",
    "    print(chromosomes, fitnesses)"
   ]
  }
 ],
 "metadata": {
  "kernelspec": {
   "display_name": "base",
   "language": "python",
   "name": "python3"
  },
  "language_info": {
   "codemirror_mode": {
    "name": "ipython",
    "version": 3
   },
   "file_extension": ".py",
   "mimetype": "text/x-python",
   "name": "python",
   "nbconvert_exporter": "python",
   "pygments_lexer": "ipython3",
   "version": "3.12.2"
  }
 },
 "nbformat": 4,
 "nbformat_minor": 2
}
