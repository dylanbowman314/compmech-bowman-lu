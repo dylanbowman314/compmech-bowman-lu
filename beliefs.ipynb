{
 "cells": [
  {
   "cell_type": "code",
   "execution_count": 8,
   "metadata": {},
   "outputs": [],
   "source": [
    "from epsilon_transformers.process.processes import Mess3\n",
    "from epsilon_transformers.process.MixedStateTree import MixedStateTree, MixedStateTreeNode\n",
    "from epsilon_transformers.process.Process import _compute_emission_probabilities, _compute_next_distribution, Process\n",
    "from collections import deque"
   ]
  },
  {
   "cell_type": "code",
   "execution_count": 11,
   "metadata": {},
   "outputs": [],
   "source": [
    "mess3 = Mess3()\n",
    "# msp_tree = mess3.derive_mixed_state_presentation(depth=11)\n"
   ]
  },
  {
   "cell_type": "code",
   "execution_count": 72,
   "metadata": {},
   "outputs": [],
   "source": [
    "import numpy as np\n",
    "def derive_mixed_state_presentation(process: Process, depth: int) -> MixedStateTree:\n",
    "    starting_prob_vec = np.expand_dims(process.steady_state_vector, axis=0)\n",
    "    tree_root = MixedStateTreeNode(state_prob_vector=starting_prob_vec, children=set(), path=[], emission_prob=0)\n",
    "    nodes = set([tree_root])\n",
    "\n",
    "    stack = deque([(tree_root, starting_prob_vec, [], 0)])\n",
    "    while stack:\n",
    "        current_node, state_prob_vector, current_path, current_depth = stack.pop()\n",
    "        print(state_prob_vector.shape, current_path)\n",
    "        if current_depth < depth:\n",
    "            emission_probs = _compute_emission_probabilities(process, np.expand_dims(state_prob_vector[-1], axis=0))\n",
    "            for emission in range(process.vocab_len):\n",
    "                if emission_probs[emission] > 0:\n",
    "                    next_state_prob_vector = _compute_next_distribution(process.transition_matrix, np.expand_dims(state_prob_vector[-1], axis=0), emission)\n",
    "                    child_path = current_path + [emission]\n",
    "\n",
    "                    full_state_prob_history = np.concatenate([state_prob_vector, np.expand_dims(next_state_prob_vector, axis=0)], axis=0)\n",
    "                    print(state_prob_vector.shape, next_state_prob_vector.shape, child_path, full_state_prob_history.shape)\n",
    "\n",
    "                    child_node = MixedStateTreeNode(\n",
    "                        state_prob_vector=full_state_prob_history,\n",
    "                        path=child_path,\n",
    "                        children=set(),\n",
    "                        emission_prob=emission_probs[emission]\n",
    "                    )\n",
    "                    current_node.add_child(child_node)\n",
    "\n",
    "                    stack.append((child_node, next_state_prob_vector, child_path, current_depth + 1))\n",
    "        nodes.add(current_node)\n",
    "    \n",
    "    return MixedStateTree(root_node=tree_root, process=process.name, nodes=nodes, depth=depth)"
   ]
  },
  {
   "cell_type": "code",
   "execution_count": 73,
   "metadata": {},
   "outputs": [
    {
     "name": "stdout",
     "output_type": "stream",
     "text": [
      "(3,) []\n"
     ]
    },
    {
     "ename": "ValueError",
     "evalue": "all the input arrays must have same number of dimensions, but the array at index 0 has 1 dimension(s) and the array at index 1 has 2 dimension(s)",
     "output_type": "error",
     "traceback": [
      "\u001b[0;31m---------------------------------------------------------------------------\u001b[0m",
      "\u001b[0;31mValueError\u001b[0m                                Traceback (most recent call last)",
      "Cell \u001b[0;32mIn[73], line 1\u001b[0m\n\u001b[0;32m----> 1\u001b[0m a \u001b[38;5;241m=\u001b[39m \u001b[43mderive_mixed_state_presentation\u001b[49m\u001b[43m(\u001b[49m\u001b[43mmess3\u001b[49m\u001b[43m,\u001b[49m\u001b[43m \u001b[49m\u001b[38;5;241;43m10\u001b[39;49m\u001b[43m)\u001b[49m\n",
      "Cell \u001b[0;32mIn[72], line 17\u001b[0m, in \u001b[0;36mderive_mixed_state_presentation\u001b[0;34m(process, depth)\u001b[0m\n\u001b[1;32m     14\u001b[0m next_state_prob_vector \u001b[38;5;241m=\u001b[39m _compute_next_distribution(process\u001b[38;5;241m.\u001b[39mtransition_matrix, np\u001b[38;5;241m.\u001b[39mexpand_dims(state_prob_vector[\u001b[38;5;241m-\u001b[39m\u001b[38;5;241m1\u001b[39m], axis\u001b[38;5;241m=\u001b[39m\u001b[38;5;241m0\u001b[39m), emission)\n\u001b[1;32m     15\u001b[0m child_path \u001b[38;5;241m=\u001b[39m current_path \u001b[38;5;241m+\u001b[39m [emission]\n\u001b[0;32m---> 17\u001b[0m full_state_prob_history \u001b[38;5;241m=\u001b[39m \u001b[43mnp\u001b[49m\u001b[38;5;241;43m.\u001b[39;49m\u001b[43mconcatenate\u001b[49m\u001b[43m(\u001b[49m\u001b[43m[\u001b[49m\u001b[43mstate_prob_vector\u001b[49m\u001b[43m,\u001b[49m\u001b[43m \u001b[49m\u001b[43mnp\u001b[49m\u001b[38;5;241;43m.\u001b[39;49m\u001b[43mexpand_dims\u001b[49m\u001b[43m(\u001b[49m\u001b[43mnext_state_prob_vector\u001b[49m\u001b[43m,\u001b[49m\u001b[43m \u001b[49m\u001b[43maxis\u001b[49m\u001b[38;5;241;43m=\u001b[39;49m\u001b[38;5;241;43m0\u001b[39;49m\u001b[43m)\u001b[49m\u001b[43m]\u001b[49m\u001b[43m,\u001b[49m\u001b[43m \u001b[49m\u001b[43maxis\u001b[49m\u001b[38;5;241;43m=\u001b[39;49m\u001b[38;5;241;43m0\u001b[39;49m\u001b[43m)\u001b[49m\n\u001b[1;32m     18\u001b[0m \u001b[38;5;28mprint\u001b[39m(state_prob_vector\u001b[38;5;241m.\u001b[39mshape, next_state_prob_vector\u001b[38;5;241m.\u001b[39mshape, child_path, full_state_prob_history\u001b[38;5;241m.\u001b[39mshape)\n\u001b[1;32m     20\u001b[0m child_node \u001b[38;5;241m=\u001b[39m MixedStateTreeNode(\n\u001b[1;32m     21\u001b[0m     state_prob_vector\u001b[38;5;241m=\u001b[39mfull_state_prob_history,\n\u001b[1;32m     22\u001b[0m     path\u001b[38;5;241m=\u001b[39mchild_path,\n\u001b[1;32m     23\u001b[0m     children\u001b[38;5;241m=\u001b[39m\u001b[38;5;28mset\u001b[39m(),\n\u001b[1;32m     24\u001b[0m     emission_prob\u001b[38;5;241m=\u001b[39memission_probs[emission]\n\u001b[1;32m     25\u001b[0m )\n",
      "\u001b[0;31mValueError\u001b[0m: all the input arrays must have same number of dimensions, but the array at index 0 has 1 dimension(s) and the array at index 1 has 2 dimension(s)"
     ]
    }
   ],
   "source": [
    "a = derive_mixed_state_presentation(mess3, 10)"
   ]
  },
  {
   "cell_type": "code",
   "execution_count": 23,
   "metadata": {},
   "outputs": [],
   "source": [
    "tree_paths, tree_beliefs = a.paths_and_belief_states"
   ]
  },
  {
   "cell_type": "code",
   "execution_count": 25,
   "metadata": {},
   "outputs": [
    {
     "data": {
      "text/plain": [
       "array([0.14467659, 0.51160179, 0.34372162, 0.12324287, 0.69474413,\n",
       "       0.182013  ])"
      ]
     },
     "execution_count": 25,
     "metadata": {},
     "output_type": "execute_result"
    }
   ],
   "source": [
    "tree_beliefs[0]"
   ]
  }
 ],
 "metadata": {
  "kernelspec": {
   "display_name": "base",
   "language": "python",
   "name": "python3"
  },
  "language_info": {
   "codemirror_mode": {
    "name": "ipython",
    "version": 3
   },
   "file_extension": ".py",
   "mimetype": "text/x-python",
   "name": "python",
   "nbconvert_exporter": "python",
   "pygments_lexer": "ipython3",
   "version": "3.12.2"
  }
 },
 "nbformat": 4,
 "nbformat_minor": 2
}
