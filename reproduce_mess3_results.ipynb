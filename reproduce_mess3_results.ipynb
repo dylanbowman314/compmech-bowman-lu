{
 "cells": [
  {
   "cell_type": "code",
   "execution_count": 1,
   "metadata": {},
   "outputs": [
    {
     "name": "stderr",
     "output_type": "stream",
     "text": [
      "/opt/conda/lib/python3.12/site-packages/tqdm/auto.py:21: TqdmWarning: IProgress not found. Please update jupyter and ipywidgets. See https://ipywidgets.readthedocs.io/en/stable/user_install.html\n",
      "  from .autonotebook import tqdm as notebook_tqdm\n"
     ]
    }
   ],
   "source": [
    "import torch\n",
    "from epsilon_transformers.training.configs.model_configs import RawModelConfig\n",
    "from epsilon_transformers.training.configs.training_configs import ProcessDatasetConfig\n",
    "from pathlib import Path\n",
    "import json"
   ]
  },
  {
   "cell_type": "code",
   "execution_count": 4,
   "metadata": {},
   "outputs": [],
   "source": [
    "checkpoint_path = Path(\"/workspaces/cure/compmech-models/models/54qc0vyb_mess3-0.05-0.85/\")\n",
    "weights = torch.load(checkpoint_path / \"6406400.pt\")"
   ]
  },
  {
   "cell_type": "code",
   "execution_count": 5,
   "metadata": {},
   "outputs": [
    {
     "data": {
      "text/plain": [
       "<All keys matched successfully>"
      ]
     },
     "execution_count": 5,
     "metadata": {},
     "output_type": "execute_result"
    }
   ],
   "source": [
    "with open(checkpoint_path / \"train_config.json\", \"r\") as f:\n",
    "    required_fields = ['d_vocab', 'd_model', 'n_ctx', 'd_head', 'n_heads', 'n_layers']\n",
    "    cfg_dict = {k: v for k, v in json.load(f).items() if k in required_fields}\n",
    "    cfg_dict['n_head'] = cfg_dict.pop('n_heads')\n",
    "    cfg_dict['d_mlp'] = 4 * cfg_dict['d_model']\n",
    "    train_config = RawModelConfig(**cfg_dict)\n",
    "\n",
    "model = train_config.to_hooked_transformer(device=torch.device(\"cuda\"))\n",
    "model.load_state_dict(weights)"
   ]
  },
  {
   "cell_type": "code",
   "execution_count": 11,
   "metadata": {},
   "outputs": [],
   "source": [
    "dataset_config = ProcessDatasetConfig(\n",
    "    process='Mess3',\n",
    "    process_params={'x': 0.5, 'a': 0.85},\n",
    "    batch_size=64,\n",
    "    num_tokens=50000000,\n",
    "    test_split=0.00000000015\n",
    ")\n",
    "\n",
    "loader = dataset_config.to_dataloader(sequence_length=cfg_dict[\"n_ctx\"], train=True)"
   ]
  },
  {
   "cell_type": "code",
   "execution_count": 12,
   "metadata": {},
   "outputs": [],
   "source": [
    "for inputs, labels in loader:\n",
    "    a = model.run_with_cache(inputs)\n",
    "    break"
   ]
  },
  {
   "cell_type": "code",
   "execution_count": 8,
   "metadata": {},
   "outputs": [
    {
     "data": {
      "text/plain": [
       "tensor([[[-0.5166,  0.8183, -0.4697],\n",
       "         [-0.4327,  0.3262,  0.8449],\n",
       "         [-0.6491,  0.9016, -0.1664],\n",
       "         ...,\n",
       "         [-0.3388, -0.8634,  0.5081],\n",
       "         [-0.4820,  0.3358, -0.0412],\n",
       "         [-0.6331,  1.0292, -0.3222]],\n",
       "\n",
       "        [[-0.7741, -0.8289,  0.6545],\n",
       "         [ 0.2944, -1.1725, -0.1725],\n",
       "         [ 0.4211, -1.4822, -1.1416],\n",
       "         ...,\n",
       "         [ 0.1895, -0.3285, -1.2546],\n",
       "         [-0.1007, -0.4194,  0.3348],\n",
       "         [ 0.2354, -1.4510, -0.9999]],\n",
       "\n",
       "        [[-0.7741, -0.8289,  0.6545],\n",
       "         [ 0.2944, -1.1725, -0.1725],\n",
       "         [-0.1597,  0.0259, -0.5297],\n",
       "         ...,\n",
       "         [-0.4330, -0.2069,  0.5364],\n",
       "         [-0.6322,  0.7504, -0.1035],\n",
       "         [ 0.0478, -0.5892, -0.9713]],\n",
       "\n",
       "        ...,\n",
       "\n",
       "        [[-0.7741, -0.8289,  0.6545],\n",
       "         [ 0.2944, -1.1725, -0.1725],\n",
       "         [-0.4036, -0.9245,  0.8091],\n",
       "         ...,\n",
       "         [-0.4995,  0.2482, -0.0373],\n",
       "         [-0.7463, -0.4040,  0.9230],\n",
       "         [-0.7491,  0.7890,  0.0568]],\n",
       "\n",
       "        [[-0.5166,  0.8183, -0.4697],\n",
       "         [-0.4327,  0.3262,  0.8449],\n",
       "         [-0.6491,  0.9016, -0.1664],\n",
       "         ...,\n",
       "         [ 0.1091, -0.8167, -0.7574],\n",
       "         [-0.2161,  0.7366, -0.5588],\n",
       "         [-0.7150, -0.3491,  0.3581]],\n",
       "\n",
       "        [[-0.5166,  0.8183, -0.4697],\n",
       "         [ 0.4421, -0.1208, -0.7470],\n",
       "         [-0.1806, -0.4356,  0.3188],\n",
       "         ...,\n",
       "         [-0.2888, -0.7631,  0.0974],\n",
       "         [-0.6048, -0.7469,  0.8658],\n",
       "         [-0.0700, -1.2853, -0.2594]]], device='cuda:0',\n",
       "       grad_fn=<AddBackward0>)"
      ]
     },
     "execution_count": 8,
     "metadata": {},
     "output_type": "execute_result"
    }
   ],
   "source": [
    "a[0]"
   ]
  }
 ],
 "metadata": {
  "kernelspec": {
   "display_name": "base",
   "language": "python",
   "name": "python3"
  },
  "language_info": {
   "codemirror_mode": {
    "name": "ipython",
    "version": 3
   },
   "file_extension": ".py",
   "mimetype": "text/x-python",
   "name": "python",
   "nbconvert_exporter": "python",
   "pygments_lexer": "ipython3",
   "version": "3.12.2"
  }
 },
 "nbformat": 4,
 "nbformat_minor": 2
}
