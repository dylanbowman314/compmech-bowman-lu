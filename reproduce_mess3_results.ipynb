{
 "cells": [
  {
   "cell_type": "code",
   "execution_count": 1,
   "metadata": {},
   "outputs": [
    {
     "name": "stderr",
     "output_type": "stream",
     "text": [
      "/opt/conda/lib/python3.12/site-packages/tqdm/auto.py:21: TqdmWarning: IProgress not found. Please update jupyter and ipywidgets. See https://ipywidgets.readthedocs.io/en/stable/user_install.html\n",
      "  from .autonotebook import tqdm as notebook_tqdm\n"
     ]
    }
   ],
   "source": [
    "import torch\n",
    "from epsilon_transformers.training.configs.model_configs import RawModelConfig\n",
    "from epsilon_transformers.training.configs.training_configs import ProcessDatasetConfig\n",
    "from pathlib import Path\n",
    "import json"
   ]
  },
  {
   "cell_type": "code",
   "execution_count": 2,
   "metadata": {},
   "outputs": [],
   "source": [
    "checkpoint_path = Path(\"/workspaces/cure/compmech-models/models/54qc0vyb_mess3-0.05-0.85/\")\n",
    "weights = torch.load(checkpoint_path / \"6406400.pt\")"
   ]
  },
  {
   "cell_type": "code",
   "execution_count": 3,
   "metadata": {},
   "outputs": [
    {
     "data": {
      "text/plain": [
       "<All keys matched successfully>"
      ]
     },
     "execution_count": 3,
     "metadata": {},
     "output_type": "execute_result"
    }
   ],
   "source": [
    "with open(checkpoint_path / \"train_config.json\", \"r\") as f:\n",
    "    required_fields = ['d_vocab', 'd_model', 'n_ctx', 'd_head', 'n_heads', 'n_layers']\n",
    "    cfg_dict = {k: v for k, v in json.load(f).items() if k in required_fields}\n",
    "    cfg_dict['n_head'] = cfg_dict.pop('n_heads')\n",
    "    cfg_dict['d_mlp'] = 4 * cfg_dict['d_model']\n",
    "    train_config = RawModelConfig(**cfg_dict)\n",
    "\n",
    "model = train_config.to_hooked_transformer(device=torch.device(\"cuda\"))\n",
    "model.load_state_dict(weights)"
   ]
  },
  {
   "cell_type": "code",
   "execution_count": 4,
   "metadata": {},
   "outputs": [],
   "source": [
    "dataset_config = ProcessDatasetConfig(\n",
    "    process='Mess3',\n",
    "    process_params={'x': 0.5, 'a': 0.85},\n",
    "    batch_size=64,\n",
    "    num_tokens=500000,\n",
    "    test_split=0.01\n",
    ")\n",
    "\n",
    "train_loader = dataset_config.to_dataloader(sequence_length=cfg_dict[\"n_ctx\"], train=True)\n",
    "test_loader = dataset_config.to_dataloader(sequence_length=cfg_dict[\"n_ctx\"], train=False)"
   ]
  },
  {
   "cell_type": "code",
   "execution_count": 5,
   "metadata": {},
   "outputs": [],
   "source": [
    "from epsilon_transformers.process.processes import Mess3\n",
    "mess3 = Mess3()\n",
    "msp_tree = mess3.derive_mixed_state_presentation(depth=model.cfg.n_ctx + 1)\n"
   ]
  },
  {
   "cell_type": "code",
   "execution_count": 6,
   "metadata": {},
   "outputs": [],
   "source": [
    "from transformer_lens.hook_points import HookPoint\n",
    "from torch.optim import Adam\n",
    "from torch import nn\n",
    "import numpy as np\n",
    "from functools import partial\n",
    "\n",
    "class LinearProj(nn.Module):\n",
    "    def __init__(self, input_dim: int, output_dim: int):\n",
    "        super(LinearProj, self).__init__()\n",
    "        self.linear = nn.Linear(input_dim, output_dim, dtype=torch.float32)\n",
    "    def forward(self, residual_stream: torch.Tensor):\n",
    "        return self.linear(residual_stream)\n",
    "\n",
    "linear_probe = LinearProj(64, 3).cuda()\n",
    "optimizer = Adam(linear_probe.parameters())\n",
    "loss_fn = nn.MSELoss()\n"
   ]
  },
  {
   "cell_type": "code",
   "execution_count": 7,
   "metadata": {},
   "outputs": [],
   "source": [
    "def probe_train_hook(attn_result: torch.Tensor, hook: HookPoint, beliefs: torch.Tensor) -> torch.Tensor:\n",
    "    optimizer.zero_grad()\n",
    "    probe_out = linear_probe(attn_result)\n",
    "    loss = loss_fn(input=probe_out, target=beliefs)\n",
    "    loss.backward()\n",
    "    optimizer.step()\n",
    "\n",
    "    # print(loss)\n",
    "\n",
    "    return attn_result\n",
    "\n",
    "def probe_test_hook(attn_result: torch.Tensor, hook: HookPoint, beliefs: torch.Tensor) -> torch.Tensor:\n",
    "    optimizer.zero_grad()\n",
    "    probe_out = linear_probe(attn_result)\n",
    "    loss = loss_fn(input=probe_out, target=beliefs)\n",
    "    # print(loss)\n",
    "\n",
    "    return attn_result\n",
    "\n",
    "from typing import List\n",
    "def probe_log_hook(attn_result: torch.Tensor, hook: HookPoint, belief_guess_list: List) -> torch.Tensor:\n",
    "    probe_out = linear_probe(attn_result)\n",
    "    belief_guess_list.append(probe_out)\n",
    "    return attn_result"
   ]
  },
  {
   "cell_type": "code",
   "execution_count": 8,
   "metadata": {},
   "outputs": [],
   "source": [
    "for inputs, labels in train_loader:\n",
    "    beliefs = torch.tensor(\n",
    "        np.stack([msp_tree.path_to_beliefs(list(input)) for input in inputs]),\n",
    "        device=torch.device(\"cuda\"),\n",
    "        dtype=torch.float32\n",
    "    )\n",
    "    hook_with_beliefs = partial(probe_train_hook, beliefs=beliefs)\n",
    "    inputs = inputs.to(\"cuda\")\n",
    "    _ = model.run_with_hooks(inputs, fwd_hooks=[('blocks.3.hook_resid_post', hook_with_beliefs)])"
   ]
  },
  {
   "cell_type": "code",
   "execution_count": 9,
   "metadata": {},
   "outputs": [],
   "source": [
    "for inputs, labels in test_loader:\n",
    "    beliefs = torch.tensor(\n",
    "        np.stack([msp_tree.path_to_beliefs(list(input)) for input in inputs]),\n",
    "        device=torch.device(\"cuda\"),\n",
    "        dtype=torch.float32\n",
    "    )\n",
    "    hook_with_beliefs = partial(probe_test_hook, beliefs=beliefs)\n",
    "    inputs = inputs.to(\"cuda\")\n",
    "    _ = model.run_with_hooks(inputs, fwd_hooks=[('blocks.3.hook_resid_post', hook_with_beliefs)])"
   ]
  },
  {
   "cell_type": "code",
   "execution_count": 10,
   "metadata": {},
   "outputs": [],
   "source": [
    "test_loader = dataset_config.to_dataloader(sequence_length=cfg_dict[\"n_ctx\"], train=False)\n",
    "\n",
    "belief_guess_list = []\n",
    "for inputs, labels in test_loader:\n",
    "    beliefs = torch.tensor(\n",
    "        np.stack([msp_tree.path_to_beliefs(list(input)) for input in inputs]),\n",
    "        device=torch.device(\"cuda\"),\n",
    "        dtype=torch.float32\n",
    "    )\n",
    "    hook_with_beliefs = partial(probe_log_hook, belief_guess_list=belief_guess_list)\n",
    "    inputs = inputs.to(\"cuda\")\n",
    "    _ = model.run_with_hooks(inputs, fwd_hooks=[('blocks.3.hook_resid_post', hook_with_beliefs)])"
   ]
  },
  {
   "cell_type": "code",
   "execution_count": 11,
   "metadata": {},
   "outputs": [
    {
     "data": {
      "text/plain": [
       "79"
      ]
     },
     "execution_count": 11,
     "metadata": {},
     "output_type": "execute_result"
    }
   ],
   "source": [
    "len(test_loader)"
   ]
  },
  {
   "cell_type": "code",
   "execution_count": 12,
   "metadata": {},
   "outputs": [],
   "source": [
    "points = torch.cat(belief_guess_list)\n",
    "points = points.view(points.shape[0]*points.shape[1], points.shape[2])"
   ]
  },
  {
   "cell_type": "code",
   "execution_count": 13,
   "metadata": {},
   "outputs": [
    {
     "data": {
      "text/plain": [
       "dict_keys(['hook_embed', 'hook_pos_embed', 'blocks.0.hook_resid_pre', 'blocks.0.ln1.hook_scale', 'blocks.0.ln1.hook_normalized', 'blocks.0.attn.hook_q', 'blocks.0.attn.hook_k', 'blocks.0.attn.hook_v', 'blocks.0.attn.hook_attn_scores', 'blocks.0.attn.hook_pattern', 'blocks.0.attn.hook_z', 'blocks.0.hook_attn_out', 'blocks.0.hook_resid_mid', 'blocks.0.ln2.hook_scale', 'blocks.0.ln2.hook_normalized', 'blocks.0.mlp.hook_pre', 'blocks.0.mlp.hook_post', 'blocks.0.hook_mlp_out', 'blocks.0.hook_resid_post', 'blocks.1.hook_resid_pre', 'blocks.1.ln1.hook_scale', 'blocks.1.ln1.hook_normalized', 'blocks.1.attn.hook_q', 'blocks.1.attn.hook_k', 'blocks.1.attn.hook_v', 'blocks.1.attn.hook_attn_scores', 'blocks.1.attn.hook_pattern', 'blocks.1.attn.hook_z', 'blocks.1.hook_attn_out', 'blocks.1.hook_resid_mid', 'blocks.1.ln2.hook_scale', 'blocks.1.ln2.hook_normalized', 'blocks.1.mlp.hook_pre', 'blocks.1.mlp.hook_post', 'blocks.1.hook_mlp_out', 'blocks.1.hook_resid_post', 'blocks.2.hook_resid_pre', 'blocks.2.ln1.hook_scale', 'blocks.2.ln1.hook_normalized', 'blocks.2.attn.hook_q', 'blocks.2.attn.hook_k', 'blocks.2.attn.hook_v', 'blocks.2.attn.hook_attn_scores', 'blocks.2.attn.hook_pattern', 'blocks.2.attn.hook_z', 'blocks.2.hook_attn_out', 'blocks.2.hook_resid_mid', 'blocks.2.ln2.hook_scale', 'blocks.2.ln2.hook_normalized', 'blocks.2.mlp.hook_pre', 'blocks.2.mlp.hook_post', 'blocks.2.hook_mlp_out', 'blocks.2.hook_resid_post', 'blocks.3.hook_resid_pre', 'blocks.3.ln1.hook_scale', 'blocks.3.ln1.hook_normalized', 'blocks.3.attn.hook_q', 'blocks.3.attn.hook_k', 'blocks.3.attn.hook_v', 'blocks.3.attn.hook_attn_scores', 'blocks.3.attn.hook_pattern', 'blocks.3.attn.hook_z', 'blocks.3.hook_attn_out', 'blocks.3.hook_resid_mid', 'blocks.3.ln2.hook_scale', 'blocks.3.ln2.hook_normalized', 'blocks.3.mlp.hook_pre', 'blocks.3.mlp.hook_post', 'blocks.3.hook_mlp_out', 'blocks.3.hook_resid_post', 'ln_final.hook_scale', 'ln_final.hook_normalized'])"
      ]
     },
     "execution_count": 13,
     "metadata": {},
     "output_type": "execute_result"
    }
   ],
   "source": [
    "model.run_with_cache(inputs)[1].keys()"
   ]
  },
  {
   "cell_type": "code",
   "execution_count": 14,
   "metadata": {},
   "outputs": [
    {
     "data": {
      "image/png": "[encoded data removed]",
      "text/plain": [
       "<Figure size 640x480 with 1 Axes>"
      ]
     },
     "metadata": {},
     "output_type": "display_data"
    }
   ],
   "source": [
    "import torch\n",
    "import matplotlib.pyplot as plt\n",
    "import numpy as np\n",
    "\n",
    "# Function to convert ternary coordinates to Cartesian coordinates\n",
    "def ternary_to_cartesian(triples):\n",
    "    points = []\n",
    "    for triple in triples:\n",
    "        x = 0.5 * (2 * triple[1] + triple[2])\n",
    "        y = (np.sqrt(3) / 2) * triple[2]\n",
    "        points.append([x, y])\n",
    "    return np.array(points)\n",
    "\n",
    "# Convert ternary coordinates to Cartesian coordinates\n",
    "ternary_points = ternary_to_cartesian(points.cpu().detach().numpy())\n",
    "\n",
    "# Plotting\n",
    "fig, ax = plt.subplots()\n",
    "ax.set_aspect('equal')\n",
    "ax.set_xlim(0, 1)\n",
    "ax.set_ylim(0, np.sqrt(3) / 2)\n",
    "\n",
    "# Draw the triangle\n",
    "triangle = plt.Polygon([[0, 0], [1, 0], [0.5, np.sqrt(3) / 2]], edgecolor='k', fill=None)\n",
    "ax.add_patch(triangle)\n",
    "\n",
    "# Plot points\n",
    "ax.scatter(ternary_points[:, 0], ternary_points[:, 1], color='red', label='Sample Points',s=5)\n",
    "\n",
    "# Add labels\n",
    "ax.text(0, 0, 'z', ha='center', va='top')\n",
    "ax.text(1, 0, 'x', ha='center', va='top')\n",
    "ax.text(0.5, np.sqrt(3) / 2, 'y', ha='center', va='bottom')\n",
    "\n",
    "# Show plot\n",
    "plt.title(\"Mess3\")\n",
    "plt.legend()\n",
    "plt.show()\n"
   ]
  }
 ],
 "metadata": {
  "kernelspec": {
   "display_name": "base",
   "language": "python",
   "name": "python3"
  },
  "language_info": {
   "codemirror_mode": {
    "name": "ipython",
    "version": 3
   },
   "file_extension": ".py",
   "mimetype": "text/x-python",
   "name": "python",
   "nbconvert_exporter": "python",
   "pygments_lexer": "ipython3",
   "version": "3.12.2"
  }
 },
 "nbformat": 4,
 "nbformat_minor": 2
}
